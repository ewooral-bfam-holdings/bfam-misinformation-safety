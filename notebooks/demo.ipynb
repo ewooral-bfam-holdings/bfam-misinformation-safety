{
 "cells": [
  {
   "cell_type": "code",
   "id": "initial_id",
   "metadata": {
    "collapsed": true,
    "ExecuteTime": {
     "end_time": "2025-10-13T01:56:33.981943Z",
     "start_time": "2025-10-13T01:56:33.979812Z"
    }
   },
   "source": [
    ""
   ],
   "outputs": [],
   "execution_count": null
  },
  {
   "metadata": {
    "ExecuteTime": {
     "end_time": "2025-10-13T01:57:41.810576Z",
     "start_time": "2025-10-13T01:57:16.088617Z"
    }
   },
   "cell_type": "code",
   "source": [
    "from transformers import AutoModelForSequenceClassification, AutoTokenizer\n",
    "import torch\n"
   ],
   "id": "9cacc4e4599bd693",
   "outputs": [],
   "execution_count": 2
  },
  {
   "metadata": {},
   "cell_type": "markdown",
   "source": "",
   "id": "6ec7ab51ec759246"
  },
  {
   "metadata": {
    "ExecuteTime": {
     "end_time": "2025-10-13T01:58:24.991940Z",
     "start_time": "2025-10-13T01:58:24.987496Z"
    }
   },
   "cell_type": "code",
   "source": [
    "def load_text_model(model_name=\"distilbert-base-uncased\"):\n",
    "    tokenizer = AutoTokenizer.from_pretrained(model_name)\n",
    "    model = AutoModelForSequenceClassification.from_pretrained(model_name, num_labels=2)\n",
    "    return tokenizer, model"
   ],
   "id": "667dae6bdb3a91b9",
   "outputs": [],
   "execution_count": 3
  },
  {
   "metadata": {
    "ExecuteTime": {
     "end_time": "2025-10-13T01:58:26.503719Z",
     "start_time": "2025-10-13T01:58:26.495844Z"
    }
   },
   "cell_type": "code",
   "source": [
    "def predict_text(texts, tokenizer, model, device=None):\n",
    "    if device is None:\n",
    "        device = \"cuda\" if torch.cuda.is_available() else \"cpu\"\n",
    "    model.to(device)\n",
    "    inputs = tokenizer(texts, padding=True, truncation=True, return_tensors=\"pt\")\n",
    "    inputs = {k: v.to(device) for k, v in inputs.items()}\n",
    "    with torch.no_grad():\n",
    "        outputs = model(**inputs)\n",
    "    probs = torch.softmax(outputs.logits, dim=-1)[:, 1].cpu().numpy()\n",
    "    return probs"
   ],
   "id": "253978c3e49001af",
   "outputs": [],
   "execution_count": 4
  },
  {
   "metadata": {},
   "cell_type": "code",
   "outputs": [],
   "execution_count": null,
   "source": "",
   "id": "f586e5a112bcfbdd"
  },
  {
   "metadata": {
    "ExecuteTime": {
     "end_time": "2025-10-13T01:58:30.483759Z",
     "start_time": "2025-10-13T01:58:28.984997Z"
    }
   },
   "cell_type": "code",
   "source": [
    "# src/data_utils.py\n",
    "import random\n",
    "from datasets import Dataset\n",
    "\n",
    "def make_simple_text_dataset():\n",
    "    texts = [\n",
    "        \"This is a human written news short story about crops.\",\n",
    "        \"Generated text The government gave 1000 to all citizens.\",\n",
    "        \"Human message about community meeting tomorrow.\",\n",
    "        \"AI generated news saying the village leader asked for money.\",\n",
    "        \"Local market will be closed on Monday due to festival.\",\n",
    "        \"Machine made article saying the school was closed by officials.\"\n",
    "    ]\n",
    "    labels = [0, 1, 0, 1, 0, 1]\n",
    "    return Dataset.from_dict({\"text\": texts, \"label\": labels})\n"
   ],
   "id": "97bd497c6a90d387",
   "outputs": [],
   "execution_count": 5
  },
  {
   "metadata": {
    "ExecuteTime": {
     "end_time": "2025-10-13T01:58:50.807693Z",
     "start_time": "2025-10-13T01:58:35.296549Z"
    }
   },
   "cell_type": "code",
   "source": [
    "from transformers import TrainingArguments, Trainer\n",
    "\n",
    "def tokenize_batch(batch, tokenizer):\n",
    "    return tokenizer(batch[\"text\"], padding=\"max_length\", truncation=True, max_length=128)\n",
    "\n",
    "def train_text_baseline(output_dir=\"out\"):\n",
    "    tokenizer, model = load_text_model()\n",
    "    ds = make_simple_text_dataset()\n",
    "    ds = ds.map(lambda x: tokenizer(x[\"text\"], padding=\"max_length\", truncation=True, max_length=128), batched=True)\n",
    "    ds = ds.rename_column(\"label\", \"labels\")\n",
    "    ds.set_format(type=\"torch\", columns=[\"input_ids\", \"attention_mask\", \"labels\"])\n",
    "    args = TrainingArguments(\n",
    "        output_dir=output_dir,\n",
    "        per_device_train_batch_size=2,\n",
    "        num_train_epochs=2,\n",
    "        logging_steps=5,\n",
    "        save_strategy=\"no\",\n",
    "        report_to=[]\n",
    "    )\n",
    "    trainer = Trainer(model=model, args=args, train_dataset=ds)\n",
    "    trainer.train()\n",
    "    print(\"Training complete\")\n",
    "\n",
    "if __name__ == \"__main__\":\n",
    "    train_text_baseline()"
   ],
   "id": "5dadb49aef534c91",
   "outputs": [
    {
     "name": "stderr",
     "output_type": "stream",
     "text": [
      "Some weights of DistilBertForSequenceClassification were not initialized from the model checkpoint at distilbert-base-uncased and are newly initialized: ['classifier.bias', 'classifier.weight', 'pre_classifier.bias', 'pre_classifier.weight']\n",
      "You should probably TRAIN this model on a down-stream task to be able to use it for predictions and inference.\n",
      "Map: 100%|██████████| 6/6 [00:00<00:00, 517.27 examples/s]\n",
      "C:\\Users\\ewooral\\myenvironment\\bfam-backend\\venv\\Lib\\site-packages\\torch\\utils\\data\\dataloader.py:666: UserWarning: 'pin_memory' argument is set as true but no accelerator is found, then device pinned memory won't be used.\n",
      "  warnings.warn(warn_msg)\n"
     ]
    },
    {
     "data": {
      "text/plain": [
       "<IPython.core.display.HTML object>"
      ],
      "text/html": [
       "\n",
       "    <div>\n",
       "      \n",
       "      <progress value='6' max='6' style='width:300px; height:20px; vertical-align: middle;'></progress>\n",
       "      [6/6 00:02, Epoch 2/2]\n",
       "    </div>\n",
       "    <table border=\"1\" class=\"dataframe\">\n",
       "  <thead>\n",
       " <tr style=\"text-align: left;\">\n",
       "      <th>Step</th>\n",
       "      <th>Training Loss</th>\n",
       "    </tr>\n",
       "  </thead>\n",
       "  <tbody>\n",
       "    <tr>\n",
       "      <td>5</td>\n",
       "      <td>0.691600</td>\n",
       "    </tr>\n",
       "  </tbody>\n",
       "</table><p>"
      ]
     },
     "metadata": {},
     "output_type": "display_data"
    },
    {
     "name": "stdout",
     "output_type": "stream",
     "text": [
      "Training complete\n"
     ]
    }
   ],
   "execution_count": 6
  },
  {
   "metadata": {},
   "cell_type": "code",
   "outputs": [],
   "execution_count": null,
   "source": "",
   "id": "4b72f1e24f01733e"
  },
  {
   "metadata": {},
   "cell_type": "markdown",
   "source": "",
   "id": "18e6917f3a14c243"
  }
 ],
 "metadata": {
  "kernelspec": {
   "display_name": "Python 3",
   "language": "python",
   "name": "python3"
  },
  "language_info": {
   "codemirror_mode": {
    "name": "ipython",
    "version": 2
   },
   "file_extension": ".py",
   "mimetype": "text/x-python",
   "name": "python",
   "nbconvert_exporter": "python",
   "pygments_lexer": "ipython2",
   "version": "2.7.6"
  }
 },
 "nbformat": 4,
 "nbformat_minor": 5
}
