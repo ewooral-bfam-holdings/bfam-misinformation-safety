{
 "cells": [
  {
   "cell_type": "code",
   "id": "initial_id",
   "metadata": {
    "collapsed": true,
    "jupyter": {
     "is_executing": true
    }
   },
   "source": [
    ""
   ],
   "outputs": [],
   "execution_count": null
  },
  {
   "metadata": {
    "jupyter": {
     "is_executing": true
    }
   },
   "cell_type": "code",
   "source": [
    "from transformers import AutoModelForSequenceClassification, AutoTokenizer\n",
    "import torch\n"
   ],
   "id": "9cacc4e4599bd693",
   "outputs": [],
   "execution_count": null
  },
  {
   "metadata": {},
   "cell_type": "markdown",
   "source": "",
   "id": "6ec7ab51ec759246"
  },
  {
   "metadata": {
    "jupyter": {
     "is_executing": true
    }
   },
   "cell_type": "code",
   "source": [
    "def load_text_model(model_name=\"distilbert-base-uncased\"):\n",
    "    tokenizer = AutoTokenizer.from_pretrained(model_name)\n",
    "    model = AutoModelForSequenceClassification.from_pretrained(model_name, num_labels=2)\n",
    "    return tokenizer, model"
   ],
   "id": "667dae6bdb3a91b9",
   "outputs": [],
   "execution_count": null
  },
  {
   "metadata": {
    "ExecuteTime": {
     "end_time": "2025-10-17T02:12:00.442479Z",
     "start_time": "2025-10-17T02:12:00.436270Z"
    }
   },
   "cell_type": "code",
   "source": [
    "def predict_text(texts, tokenizer, model, device=None):\n",
    "    if device is None:\n",
    "        device = \"cuda\" if torch.cuda.is_available() else \"cpu\"\n",
    "    model.to(device)\n",
    "    inputs = tokenizer(texts, padding=True, truncation=True, return_tensors=\"pt\")\n",
    "    inputs = {k: v.to(device) for k, v in inputs.items()}\n",
    "    with torch.no_grad():\n",
    "        outputs = model(**inputs)\n",
    "    probs = torch.softmax(outputs.logits, dim=-1)[:, 1].cpu().numpy()\n",
    "    return probs"
   ],
   "id": "253978c3e49001af",
   "outputs": [],
   "execution_count": 6
  },
  {
   "metadata": {
    "ExecuteTime": {
     "end_time": "2025-10-17T02:12:00.454541Z",
     "start_time": "2025-10-17T02:12:00.451207Z"
    }
   },
   "cell_type": "code",
   "source": "",
   "id": "f586e5a112bcfbdd",
   "outputs": [],
   "execution_count": null
  },
  {
   "metadata": {
    "ExecuteTime": {
     "end_time": "2025-10-17T02:12:02.920819Z",
     "start_time": "2025-10-17T02:12:00.464488Z"
    }
   },
   "cell_type": "code",
   "source": [
    "# src/data_utils.py\n",
    "import random\n",
    "from datasets import Dataset\n",
    "\n",
    "def make_simple_text_dataset():\n",
    "    texts = [\n",
    "        \"This is a human written news short story about crops.\",\n",
    "        \"Generated text The government gave 1000 to all citizens.\",\n",
    "        \"Human message about community meeting tomorrow.\",\n",
    "        \"AI generated news saying the village leader asked for money.\",\n",
    "        \"Local market will be closed on Monday due to festival.\",\n",
    "        \"Machine made article saying the school was closed by officials.\"\n",
    "    ]\n",
    "    labels = [0, 1, 0, 1, 0, 1]\n",
    "    return Dataset.from_dict({\"text\": texts, \"label\": labels})\n"
   ],
   "id": "97bd497c6a90d387",
   "outputs": [],
   "execution_count": 7
  },
  {
   "metadata": {
    "ExecuteTime": {
     "end_time": "2025-10-17T02:31:25.945922Z",
     "start_time": "2025-10-17T02:31:16.530155Z"
    }
   },
   "cell_type": "code",
   "source": [
    "from transformers import TrainingArguments, Trainer\n",
    "\n",
    "def tokenize_batch(batch, tokenizer):\n",
    "    return tokenizer(batch[\"text\"], padding=\"max_length\", truncation=True, max_length=128)\n",
    "\n",
    "def train_text_baseline(output_dir=\"out\"):\n",
    "    tokenizer, model = load_text_model()\n",
    "    ds = make_simple_text_dataset()\n",
    "    ds = ds.map(lambda x: tokenizer(x[\"text\"], padding=\"max_length\", truncation=True, max_length=128), batched=True)\n",
    "    ds = ds.rename_column(\"label\", \"labels\")\n",
    "    ds.set_format(type=\"torch\", columns=[\"input_ids\", \"attention_mask\", \"labels\"])\n",
    "    args = TrainingArguments(\n",
    "        output_dir=output_dir,\n",
    "        per_device_train_batch_size=2,\n",
    "        num_train_epochs=2,\n",
    "        logging_steps=5,\n",
    "        save_strategy=\"no\",\n",
    "        report_to=[]\n",
    "    )\n",
    "    trainer = Trainer(model=model, args=args, train_dataset=ds)\n",
    "    trainer.train()\n",
    "     # Save the model and tokenizer after training\n",
    "    trainer.save_model(output_dir)\n",
    "    tokenizer.save_pretrained(output_dir)\n",
    "    print(f\"Training complete. Model and tokenizer saved to {output_dir}\")\n",
    "\n",
    "if __name__ == \"__main__\":\n",
    "    train_text_baseline(output_dir=\"models/misinformation_detector\") # Specify output directory\n"
   ],
   "id": "5dadb49aef534c91",
   "outputs": [
    {
     "name": "stderr",
     "output_type": "stream",
     "text": [
      "Some weights of DistilBertForSequenceClassification were not initialized from the model checkpoint at distilbert-base-uncased and are newly initialized: ['classifier.bias', 'classifier.weight', 'pre_classifier.bias', 'pre_classifier.weight']\n",
      "You should probably TRAIN this model on a down-stream task to be able to use it for predictions and inference.\n",
      "Map: 100%|██████████| 6/6 [00:00<00:00, 130.64 examples/s]\n"
     ]
    },
    {
     "data": {
      "text/plain": [
       "<IPython.core.display.HTML object>"
      ],
      "text/html": [
       "\n",
       "    <div>\n",
       "      \n",
       "      <progress value='6' max='6' style='width:300px; height:20px; vertical-align: middle;'></progress>\n",
       "      [6/6 00:03, Epoch 2/2]\n",
       "    </div>\n",
       "    <table border=\"1\" class=\"dataframe\">\n",
       "  <thead>\n",
       " <tr style=\"text-align: left;\">\n",
       "      <th>Step</th>\n",
       "      <th>Training Loss</th>\n",
       "    </tr>\n",
       "  </thead>\n",
       "  <tbody>\n",
       "    <tr>\n",
       "      <td>5</td>\n",
       "      <td>0.627300</td>\n",
       "    </tr>\n",
       "  </tbody>\n",
       "</table><p>"
      ]
     },
     "metadata": {},
     "output_type": "display_data"
    },
    {
     "name": "stdout",
     "output_type": "stream",
     "text": [
      "Training complete. Model and tokenizer saved to models/misinformation_detector\n"
     ]
    }
   ],
   "execution_count": 10
  },
  {
   "metadata": {
    "ExecuteTime": {
     "end_time": "2025-10-17T11:20:38.684049Z",
     "start_time": "2025-10-17T11:20:38.090628Z"
    }
   },
   "cell_type": "code",
   "source": [
    "# ================================\n",
    "# STEP 2: Evaluation & Inference\n",
    "# ================================\n",
    "from transformers import DistilBertForSequenceClassification, DistilBertTokenizer\n",
    "from sklearn.metrics import classification_report, confusion_matrix\n",
    "import torch\n",
    "import numpy as np\n",
    "\n",
    "# Load trained model and tokenizer\n",
    "model_path = \"models/misinformation_detector\"\n",
    "model = DistilBertForSequenceClassification.from_pretrained(model_path)\n",
    "tokenizer = DistilBertTokenizer.from_pretrained(model_path)\n",
    "\n",
    "# Prepare test samples (replace with your actual test data)\n",
    "texts = [\n",
    "    \"Government has launched a new education policy for rural areas.\",\n",
    "    \"BREAKING: Minister caught stealing millions in new leaked video!!!\",\n",
    "    \"Our CEO was seen begging in a viral video — click here to watch now!\",\n",
    "    \"AI systems can generate false content that looks very real.\"\n",
    "]\n",
    "labels = [0, 1, 1, 0]  # 0 = real/human, 1 = AI/fake\n",
    "\n",
    "# Tokenize and convert to tensors\n",
    "inputs = tokenizer(texts, padding=True, truncation=True, return_tensors=\"pt\")\n",
    "\n",
    "# Run predictions\n",
    "model.eval()\n",
    "with torch.no_grad():\n",
    "    outputs = model(**inputs)\n",
    "    predictions = torch.argmax(outputs.logits, dim=1).numpy()\n",
    "\n",
    "# Evaluation metrics\n",
    "print(\"\\n Classification Report:\")\n",
    "print(classification_report(labels, predictions, target_names=[\"Human\", \"AI/Fake\"]))\n",
    "\n",
    "# Confusion matrix\n",
    "cm = confusion_matrix(labels, predictions)\n",
    "print(\"\\n Confusion Matrix:\")\n",
    "print(cm)\n",
    "\n",
    "# Test individual inference\n",
    "sample_text = \"A viral video shows the president resigning immediately.\"\n",
    "inputs = tokenizer(sample_text, return_tensors=\"pt\", truncation=True, padding=True)\n",
    "with torch.no_grad():\n",
    "    logits = model(**inputs).logits\n",
    "    prediction = torch.argmax(logits, dim=1).item()\n",
    "\n",
    "label_name = \"AI/Fake\" if prediction == 1 else \"Human\"\n",
    "print(f\"\\n Sample text: {sample_text}\")\n",
    "print(f\"Predicted label: {label_name}\")\n"
   ],
   "id": "4b72f1e24f01733e",
   "outputs": [
    {
     "name": "stdout",
     "output_type": "stream",
     "text": [
      "\n",
      " Classification Report:\n",
      "              precision    recall  f1-score   support\n",
      "\n",
      "       Human       0.67      1.00      0.80         2\n",
      "     AI/Fake       1.00      0.50      0.67         2\n",
      "\n",
      "    accuracy                           0.75         4\n",
      "   macro avg       0.83      0.75      0.73         4\n",
      "weighted avg       0.83      0.75      0.73         4\n",
      "\n",
      "\n",
      " Confusion Matrix:\n",
      "[[2 0]\n",
      " [1 1]]\n",
      "\n",
      " Sample text: A viral video shows the president resigning immediately.\n",
      "Predicted label: AI/Fake\n"
     ]
    }
   ],
   "execution_count": 14
  },
  {
   "metadata": {},
   "cell_type": "markdown",
   "source": "",
   "id": "18e6917f3a14c243"
  }
 ],
 "metadata": {
  "kernelspec": {
   "display_name": "Python 3",
   "language": "python",
   "name": "python3"
  },
  "language_info": {
   "codemirror_mode": {
    "name": "ipython",
    "version": 2
   },
   "file_extension": ".py",
   "mimetype": "text/x-python",
   "name": "python",
   "nbconvert_exporter": "python",
   "pygments_lexer": "ipython2",
   "version": "2.7.6"
  }
 },
 "nbformat": 4,
 "nbformat_minor": 5
}
